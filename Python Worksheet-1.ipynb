{
 "cells": [
  {
   "cell_type": "markdown",
   "id": "362da408",
   "metadata": {},
   "source": [
    "# Answers of Q11 to Q15"
   ]
  },
  {
   "cell_type": "markdown",
   "id": "3968cf34",
   "metadata": {},
   "source": [
    "11. Python Program to Find Factorial of a Number"
   ]
  },
  {
   "cell_type": "code",
   "execution_count": 1,
   "id": "d18f6e40",
   "metadata": {},
   "outputs": [],
   "source": [
    "def fact(n):\n",
    "    return 1 if(n==1 or n==0) else n*fact(n-1)\n",
    "num=5"
   ]
  },
  {
   "cell_type": "code",
   "execution_count": 2,
   "id": "ae710524",
   "metadata": {},
   "outputs": [
    {
     "name": "stdout",
     "output_type": "stream",
     "text": [
      "Factorial of  5 is\n"
     ]
    },
    {
     "data": {
      "text/plain": [
       "120"
      ]
     },
     "execution_count": 2,
     "metadata": {},
     "output_type": "execute_result"
    }
   ],
   "source": [
    "print(\"Factorial of \",num,\"is\")\n",
    "fact(num)"
   ]
  },
  {
   "cell_type": "markdown",
   "id": "7cb152ca",
   "metadata": {},
   "source": [
    "12.Python Program to find whether a number is prime or composite"
   ]
  },
  {
   "cell_type": "code",
   "execution_count": 3,
   "id": "da8282a4",
   "metadata": {},
   "outputs": [
    {
     "name": "stdout",
     "output_type": "stream",
     "text": [
      "Enter a number-13\n",
      "13 is a Prime Number\n"
     ]
    }
   ],
   "source": [
    "num=int(input(\"Enter a number-\"))\n",
    "if num > 1:\n",
    "    for i in range(2, num):\n",
    "        if (num % i) == 0:\n",
    "            print (num, \"is not a prime number\")\n",
    "            break\n",
    "        else:\n",
    "            print(num,\"is a Prime Number\")\n",
    "            break\n",
    "elif num == 0 or num == 1:\n",
    "    print(num, \"is neither prime nor composite\")\n",
    "else:\n",
    "    print(num, \"is a Composite Number\")"
   ]
  },
  {
   "cell_type": "markdown",
   "id": "24d7ae4d",
   "metadata": {},
   "source": [
    "13.Python Program to check whether a given string is palindrome or not"
   ]
  },
  {
   "cell_type": "code",
   "execution_count": 4,
   "id": "fe23eeab",
   "metadata": {},
   "outputs": [
    {
     "name": "stdout",
     "output_type": "stream",
     "text": [
      "The string is a palindrome.\n"
     ]
    }
   ],
   "source": [
    "my_str = 'madam'\n",
    "\n",
    "# make it suitable for caseless comparison\n",
    "my_str = my_str.casefold()\n",
    "\n",
    "# reverse the string\n",
    "rev_str = reversed(my_str)\n",
    "\n",
    "# check if the string is equal to its reverse\n",
    "if list(my_str) == list(rev_str):\n",
    "   print(\"The string is a palindrome.\")\n",
    "else:\n",
    "   print(\"The string is not a palindrome.\")"
   ]
  },
  {
   "cell_type": "markdown",
   "id": "7bbba328",
   "metadata": {},
   "source": [
    "14.Python Program to get the third side of right-angled triangle from two given sides"
   ]
  },
  {
   "cell_type": "code",
   "execution_count": 10,
   "id": "e902a22c",
   "metadata": {},
   "outputs": [
    {
     "name": "stdout",
     "output_type": "stream",
     "text": [
      "Input lengths of base and perpendicular of Triangle:\n",
      "base: 6\n",
      "perpendicalar: 8\n",
      "The length of the hypotenuse is: 10.0\n"
     ]
    }
   ],
   "source": [
    "from math import sqrt\n",
    "print(\"Input lengths of base and perpendicular of Triangle:\")\n",
    "a = float(input(\"base: \"))\n",
    "b = float(input(\"perpendicalar: \"))\n",
    "\n",
    "#According to Pythagoras Theorem\n",
    "#Hypotenuse = sqrt(base**2+perpendicular**2)\n",
    "\n",
    "c = sqrt(a**2 + b**2)\n",
    "print(\"The length of the hypotenuse is:\", c )"
   ]
  },
  {
   "cell_type": "markdown",
   "id": "77d774b4",
   "metadata": {},
   "source": [
    "15.Python Program to print the frequency of each of the character present in a given string"
   ]
  },
  {
   "cell_type": "code",
   "execution_count": 20,
   "id": "6213022d",
   "metadata": {},
   "outputs": [
    {
     "name": "stdout",
     "output_type": "stream",
     "text": [
      "Enter a String-ASSASSINATION\n",
      "The frequency of each Character is:3A4S2I2N1T1O\n"
     ]
    }
   ],
   "source": [
    "inp_str=input(\"Enter a String-\")\n",
    "x=set()\n",
    "result=''\n",
    "\n",
    "for i in inp_str:\n",
    "    if i not in x:\n",
    "        x.add(i)\n",
    "        result=result+str(inp_str.count(i))+i\n",
    "        \n",
    "print(\"The frequency of each Character is:\"+result)"
   ]
  },
  {
   "cell_type": "code",
   "execution_count": null,
   "id": "5616a193",
   "metadata": {},
   "outputs": [],
   "source": []
  }
 ],
 "metadata": {
  "kernelspec": {
   "display_name": "Python 3",
   "language": "python",
   "name": "python3"
  },
  "language_info": {
   "codemirror_mode": {
    "name": "ipython",
    "version": 3
   },
   "file_extension": ".py",
   "mimetype": "text/x-python",
   "name": "python",
   "nbconvert_exporter": "python",
   "pygments_lexer": "ipython3",
   "version": "3.8.8"
  }
 },
 "nbformat": 4,
 "nbformat_minor": 5
}
